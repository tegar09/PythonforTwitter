{
 "cells": [
  {
   "cell_type": "code",
   "execution_count": 1,
   "metadata": {},
   "outputs": [],
   "source": [
    "#My standard\n",
    "import csv\n",
    "import json\n",
    "import datetime\n",
    "import tweepy\n",
    "import pandas as pd\n",
    "from tweepy.auth import OAuthHandler\n",
    "# import numpy as py\n",
    "# import matplotlib as plt\n",
    "\n",
    "#for sound hehe\n",
    "import pyttsx3\n",
    "engine = pyttsx3.init()\n",
    "\n",
    "#for handle special character\n",
    "import sys\n",
    "non_bmp_map = dict.fromkeys(range(0x10000, sys.maxunicode + 1), 0xfffd)"
   ]
  },
  {
   "cell_type": "code",
   "execution_count": 2,
   "metadata": {},
   "outputs": [],
   "source": [
    "#your twitter API\n",
    "\n",
    "consumer_key = ''\n",
    "consumer_secret = ''\n",
    "access_token = ''\n",
    "access_secret = ''\n",
    " \n",
    "auth = OAuthHandler(consumer_key, consumer_secret)\n",
    "auth.set_access_token(access_token, access_secret)\n",
    " \n",
    "api = tweepy.API(auth, wait_on_rate_limit=True)"
   ]
  },
  {
   "cell_type": "code",
   "execution_count": 3,
   "metadata": {},
   "outputs": [
    {
     "name": "stdout",
     "output_type": "stream",
     "text": [
      "1 #ยังคั่นกูep4 1324750\n",
      "2 #ArtistoftheSummer 1291430\n",
      "3 Friends 1284869\n",
      "4 Money 1027303\n",
      "5 #ILAND_EP10 349015\n",
      "6 #Mulan 309310\n",
      "7 #3YearsWithSerendipity 239512\n",
      "8 Lakers 225151\n",
      "9 papa 202701\n",
      "10 #HiKai 164447\n",
      "11 #ThankYouSuperM 154694\n",
      "12 #BRINGBACKKAIBAEKTOEXO 118848\n",
      "13 #AcrossTheGalaxyDay1xMBK 109518\n",
      "14 #Dynamite300M 108479\n",
      "15 #supermdisbandparty 92333\n",
      "16 Shopping 90059\n",
      "17 LGBT 81081\n",
      "18 BAEKHYUN ONLY FOR EXO 69051\n",
      "19 #PakaiMaskerUntukSemua 58895\n",
      "20 Joshua 47652\n",
      "21 #svtoniland 46982\n",
      "22 #ExolsGotPower 43556\n",
      "23 #SayangAdminShopee 43217\n",
      "24 unveil track ex 39928\n",
      "25 #슈퍼엠_말고_본그룹_팬덤명_지켜 37662\n"
     ]
    }
   ],
   "source": [
    "#Get Top 25 trend in Indonesia\n",
    "\n",
    "dtrend = []\n",
    "trend = api.trends_place(1032539)\n",
    "\n",
    "for idx, tr in enumerate(trend[0]['trends']):\n",
    "    tr = {\n",
    "#           \"id\" : idx+1,\n",
    "          \"nama\" : tr['name'],\n",
    "#           \"promoted\" : tr['promoted_content'],\n",
    "          \"total\" : int(tr['tweet_volume'] or 0)\n",
    "\n",
    "         }\n",
    "    dtrend.append(tr)\n",
    "\n",
    "def myFunc(e):\n",
    "    return e['total']\n",
    "\n",
    "dtrend.sort(key=myFunc,reverse=True)\n",
    "# print(json.dumps(dtrend[:25], indent=4, sort_keys=True))\n",
    "\n",
    "for idx, trend in enumerate(dtrend[:25]):\n",
    "    print(idx+1, trend['nama'], trend['total'])\n"
   ]
  },
  {
   "cell_type": "code",
   "execution_count": 4,
   "metadata": {},
   "outputs": [
    {
     "name": "stdin",
     "output_type": "stream",
     "text": [
      "Trend nomor berapa yg ingin anda pilih?  3\n"
     ]
    },
    {
     "name": "stdout",
     "output_type": "stream",
     "text": [
      "sukses\n"
     ]
    }
   ],
   "source": [
    "#Crawl data by your selected trend\n",
    "\n",
    "x = int(input(\"Which number Trend that you want to choose? \"))\n",
    "key = dtrend[x-1]['nama']\n",
    "\n",
    "\n",
    "status = api.search(q=key, lang='id', count=200, result_type='recent' )\n",
    "        \n",
    "with open('data.csv', 'w', newline='', encoding='utf-8') as file:\n",
    "    fieldnames = ['id', 'account', 'tweet', 'created_at']\n",
    "    writer = csv.DictWriter(file, fieldnames=fieldnames)\n",
    "    writer.writeheader()\n",
    "    for idx, stat in enumerate(status):\n",
    "        writer.writerow({\"id\": idx+1, \"account\": stat.user.screen_name, \n",
    "                         \"tweet\": stat.text, \n",
    "                         \"created_at\": stat.created_at.strftime(\"%Y-%m-%d\")})\n",
    "\n",
    "print('succses')\n",
    "        "
   ]
  },
  {
   "cell_type": "code",
   "execution_count": 13,
   "metadata": {},
   "outputs": [
    {
     "name": "stdout",
     "output_type": "stream",
     "text": [
      "RT @The_X_Guy: 1. Jangan buat maksiat\n",
      "\n",
      "2. Kalau dah buat maksiat, jangan post ke media sosial sekalipun kepada close friends. Tak malu ke?…\n",
      "RT @malayfoodie: Langkawi - destinasi percutian local no 1 Malaysia.\n",
      "\n",
      "Senarai 10 hotel tercantik untuk honeymoon, family gathering &amp; chille…\n",
      "RT @malayfoodie: Langkawi - destinasi percutian local no 1 Malaysia.\n",
      "\n",
      "Senarai 10 hotel tercantik untuk honeymoon, family gathering &amp; chille…\n",
      "RT @malayfoodie: Langkawi - destinasi percutian local no 1 Malaysia.\n",
      "\n",
      "Senarai 10 hotel tercantik untuk honeymoon, family gathering &amp; chille…\n",
      "RT @jntexpressid: Hai JnT Friends,\n",
      "Tetap berhati-hati terhadap modus penipuan yang mengatasnamakan J&amp;T Express ya. J&amp;T Express tidak pernah…\n"
     ]
    }
   ],
   "source": [
    "df = pd.read_csv ('data.csv')\n",
    "\n",
    "voices = engine.getProperty('voices')\n",
    "engine.setProperty('rate', 120)    # Speed percent (can go over 100)\n",
    "# engine.setProperty('volume', 0.9)  # Volume 0-1\n",
    "engine.setProperty('voice', voices[0].id) #change to male\n",
    "\n",
    "for twt in df[:5].tweet:\n",
    "    print(twt)\n",
    "    engine.say(twt)\n",
    "    engine.runAndWait()\n",
    "    "
   ]
  },
  {
   "cell_type": "code",
   "execution_count": null,
   "metadata": {},
   "outputs": [],
   "source": []
  },
  {
   "cell_type": "code",
   "execution_count": null,
   "metadata": {},
   "outputs": [],
   "source": []
  }
 ],
 "metadata": {
  "kernelspec": {
   "display_name": "Python 3",
   "language": "python",
   "name": "python3"
  },
  "language_info": {
   "codemirror_mode": {
    "name": "ipython",
    "version": 3
   },
   "file_extension": ".py",
   "mimetype": "text/x-python",
   "name": "python",
   "nbconvert_exporter": "python",
   "pygments_lexer": "ipython3",
   "version": "3.8.1"
  }
 },
 "nbformat": 4,
 "nbformat_minor": 4
}
